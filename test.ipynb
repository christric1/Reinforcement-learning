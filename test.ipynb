{
 "cells": [
  {
   "cell_type": "code",
   "execution_count": null,
   "metadata": {},
   "outputs": [],
   "source": [
    "from dataset import yoloDataset\n",
    "from torch.utils.data import DataLoader\n",
    "from tqdm import tqdm\n",
    "import matplotlib.pyplot as plt\n",
    "import numpy as np\n",
    "from utils import bbox_to_rect\n",
    "import torch\n",
    "import random\n",
    "\n",
    "from reinforcement import *\n",
    "from utils import *\n",
    "from dataset import *\n",
    "from nets.backbone import Backbone"
   ]
  },
  {
   "cell_type": "code",
   "execution_count": null,
   "metadata": {},
   "outputs": [],
   "source": [
    "# TestDataset & TestLoader\n",
    "testDataset = yoloDataset(\"Pascal2007/VOCtest_06-Nov-2007/VOCdevkit\", [256, 256], dataset_property=\"aeroplane_train\")\n",
    "testDataloader = DataLoader(testDataset, batch_size=1, shuffle=True)"
   ]
  },
  {
   "cell_type": "code",
   "execution_count": null,
   "metadata": {},
   "outputs": [],
   "source": [
    "model_path = 'runs\\train\\exp\\model.pth'\n",
    "device = torch.device('cuda' if torch.cuda.is_available() else 'cpu')\n",
    "steps = 10"
   ]
  },
  {
   "cell_type": "code",
   "execution_count": null,
   "metadata": {},
   "outputs": [],
   "source": [
    "obs_dim, action_dim = 8*8*1024 + 6*4, 6\n",
    "backbone = Backbone(transition_channels=32, block_channels=32, n=4, phi='l', pretrained=True).to(device)\n",
    "dqn = torch.load(model_path)\n",
    "for param in backbone.parameters():\n",
    "    param.requires_grad = False"
   ]
  },
  {
   "cell_type": "code",
   "execution_count": null,
   "metadata": {},
   "outputs": [],
   "source": [
    "for i, data in enumerate(testDataloader):\n",
    "    img, target = data\n",
    "    labels, boxs = target[\"labels\"], target[\"boxes\"]\n",
    "    imgShape = img.shape[2], img.shape[3]\n",
    "\n",
    "    # the iou part\n",
    "    region_mask = np.ones(imgShape)\n",
    "    gt_masks = genBoxFromAnnotation(boxs[0], imgShape)\n",
    "\n",
    "    # choose the max bouding box\n",
    "    iou = findMaxBox(gt_masks, region_mask)\n",
    "\n",
    "    region_image = img\n",
    "    history_vector = torch.zeros((4, 6), device=device)\n",
    "    state = get_state(region_image, history_vector, backbone, device)\n",
    "    done = False\n",
    "\n",
    "    for step in range(steps):\n",
    "        if iou > 0.5:\n",
    "            action = 5\n",
    "        else:\n",
    "            qval = dqn(state)\n",
    "            _, predicted = torch.max(qval.data, 1)\n",
    "            action = predicted[0]\n",
    "\n",
    "        if action == 5:\n",
    "            next_state = None\n",
    "            done = True\n",
    "        else:\n",
    "            offset, region_image, size_mask, region_mask = get_crop_image_and_mask(imgShape, offset,\n",
    "                                                            region_image, size_mask, action)\n",
    "            # Get next state\n",
    "            history_vector = update_history_vector(history_vector, action).to(device)\n",
    "            next_state = get_state(region_image, history_vector, backbone, device)\n",
    "            \n",
    "            # find the max bounding box in the region image\n",
    "            new_iou = findMaxBox(gt_masks, region_mask)\n",
    "            iou = new_iou\n",
    "\n",
    "        # Move to the next state\n",
    "        state = next_state\n",
    "\n",
    "        if done:\n",
    "            break\n",
    "    \n",
    "    # Get box\n",
    "    nonzero = torch.nonzero(region_mask)\n",
    "    top_left = nonzero[0]\n",
    "    bottom_right = nonzero[-1]\n",
    "    xmin, ymin = top_left.tolist()\n",
    "    xmax, ymax = bottom_right.tolist()\n",
    "\n",
    "    # Draw\n",
    "    img = img.squeeze(dim=0).numpy()\n",
    "    img = np.transpose(img, (1, 2, 0))\n",
    "    fig = plt.imshow(img)\n",
    "    fig.axes.add_patch(bbox_to_rect((xmin, ymin, xmax, ymax), 'blue'))\n",
    "    fig.axes.add_patch(bbox_to_rect(boxs[0], 'green'))\n",
    "    plt.show()\n",
    "\n",
    "    input(\"按 Enter 鍵繼續...\")"
   ]
  }
 ],
 "metadata": {
  "kernelspec": {
   "display_name": "yolov7",
   "language": "python",
   "name": "python3"
  },
  "language_info": {
   "codemirror_mode": {
    "name": "ipython",
    "version": 3
   },
   "file_extension": ".py",
   "mimetype": "text/x-python",
   "name": "python",
   "nbconvert_exporter": "python",
   "pygments_lexer": "ipython3",
   "version": "3.9.16"
  },
  "orig_nbformat": 4
 },
 "nbformat": 4,
 "nbformat_minor": 2
}
